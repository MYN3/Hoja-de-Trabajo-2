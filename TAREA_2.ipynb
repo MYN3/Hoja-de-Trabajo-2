{
 "cells": [
  {
   "attachments": {},
   "cell_type": "markdown",
   "metadata": {},
   "source": [
    "#### 1.  Haga un programa en Python que reciba de parámetro un número de segundos y que despliegue en pantalla, las horas, minutos y segundos que representan"
   ]
  },
  {
   "cell_type": "code",
   "execution_count": 1,
   "metadata": {},
   "outputs": [
    {
     "name": "stdout",
     "output_type": "stream",
     "text": [
      "Horas: 0, Minutos: 0, Segundos: 9\n"
     ]
    }
   ],
   "source": [
    "\n",
    "try:\n",
    "    tiempo = int(input(\"Ingrese el número de segundos: \"))\n",
    "    horas = 0\n",
    "    minutos = 0\n",
    "    segundos = 0\n",
    "    if(tiempo >= 3600):\n",
    "        horas = int(tiempo/3600)\n",
    "        tiempo = (tiempo - (horas * 3600)) \n",
    "    if(tiempo >= 60):\n",
    "        minutos = int(tiempo/60)\n",
    "        tiempo = (tiempo - (minutos * 60)) \n",
    "    segundos = tiempo\n",
    "    print(f\"Horas: {horas}, Minutos: {minutos}, Segundos: {segundos}\")\n",
    "except ValueError as ex:\n",
    "    print(\"debe ingresar números enteros unicamente\")"
   ]
  },
  {
   "attachments": {},
   "cell_type": "markdown",
   "metadata": {},
   "source": [
    "#### 2. Haga una funcion en Python que dado un numero entre 1 y 20. Y un caracter cualquiera despliegue cuatro patrones triangulares"
   ]
  },
  {
   "cell_type": "code",
   "execution_count": null,
   "metadata": {},
   "outputs": [],
   "source": [
    "def SecuenciaTriangulos(tr, cr):\n",
    "    vueltas = int(tr/4)\n",
    "    sobrantes = tr - (vueltas * 4)\n",
    "    total = 0\n",
    "    if(sobrantes > 0): vueltas += 1\n",
    "    for impr in range(vueltas):\n",
    "        if(impr + 1 == vueltas):\n",
    "            if(sobrantes > 0):\n",
    "                rango = sobrantes + 1\n",
    "        else:\n",
    "            rango = 5\n",
    "        for cls in range(1, rango):\n",
    "            total+= 1\n",
    "            # print(total)\n",
    "            if(cls == 1):\n",
    "                for b in range(5):\n",
    "                    pr = cr * b\n",
    "                    print(pr)\n",
    "                print(\"\")\n",
    "            if(cls == 2):\n",
    "                e=0\n",
    "                c=4\n",
    "                for b in range(4):\n",
    "                    print(f\"{' ' * e}{cr * c}\")\n",
    "                    c-=1\n",
    "                    e+=1\n",
    "                print(\"\")\n",
    "            if(cls == 3):\n",
    "                c = 4\n",
    "                for b in range(5):\n",
    "                    pr = cr * c\n",
    "                    print(pr)\n",
    "                    c-=1\n",
    "                print(\"\")\n",
    "            if(cls == 4):\n",
    "                e=3\n",
    "                c=1\n",
    "                for b in range(4):\n",
    "                    print(f\"{' ' * e}{cr * c}\")\n",
    "                    c+=1\n",
    "                    e-=1\n",
    "                print(\"\")"
   ]
  },
  {
   "cell_type": "code",
   "execution_count": null,
   "metadata": {},
   "outputs": [],
   "source": [
    "numTriangulos = int(input(\"Ingrese el número de triangulos: \"))\n",
    "caracter = input(\"Ingrese el caracter: \")\n",
    "respuesta = SecuenciaTriangulos(numTriangulos, caracter)\n",
    "respuesta"
   ]
  },
  {
   "attachments": {},
   "cell_type": "markdown",
   "metadata": {},
   "source": [
    "#### 3. Haga un programa en Python que la fecha de nacimiento de una persona"
   ]
  },
  {
   "cell_type": "code",
   "execution_count": null,
   "metadata": {},
   "outputs": [],
   "source": [
    "import time\n",
    "dias = int(input(\"Ingrese el dia: \"))\n",
    "mes = int(input(\"Ingrese el mes \"))\n",
    "anio = int(input(\"Ingrese el año: \"))\n",
    "\n",
    "result = time.localtime()\n",
    "resMeses = result.tm_mon - mes\n",
    "resDias = result.tm_mday - dias\n",
    "resAnios = result.tm_year - anio\n",
    "if(resMeses < 0):\n",
    "    resAnios-=1\n",
    "elif(resMeses == 0):\n",
    "    if(resDias < 0):\n",
    "        resAnios-=1\n",
    "if(resMeses == 0):\n",
    "    resMeses = (resAnios * 12)\n",
    "elif(resMeses == 1):\n",
    "    resMeses = (resAnios * 12) + mes\n",
    "else:\n",
    "    resMeses = (resAnios * 12) + (12 - mes) + result.tm_mon\n",
    "resDias = int(resMeses * 30.436875)\n",
    "print(f\"Ud tiene: {resAnios} años, {resMeses} meses, {resDias} dias\")"
   ]
  },
  {
   "attachments": {},
   "cell_type": "markdown",
   "metadata": {},
   "source": [
    "#### 4. Escriba una función en Python que dada una tupla de elementos (números o letras) esta se convierta a un string."
   ]
  },
  {
   "cell_type": "code",
   "execution_count": null,
   "metadata": {},
   "outputs": [],
   "source": [
    "def tuplaAstring(tlp):\n",
    "    salida = ''.join([(str(item) + '') for item in tlp])\n",
    "    print(salida)"
   ]
  },
  {
   "cell_type": "code",
   "execution_count": null,
   "metadata": {},
   "outputs": [],
   "source": [
    "tuplaAstring((10, 20, 40, 5, 70))"
   ]
  },
  {
   "attachments": {},
   "cell_type": "markdown",
   "metadata": {},
   "source": [
    "#### 5. Cree un programa en Python que dada una lista de tuplas, elimine las tuplas que estan vacıas."
   ]
  },
  {
   "cell_type": "code",
   "execution_count": null,
   "metadata": {},
   "outputs": [],
   "source": [
    "def tuplaVacia(tlp):\n",
    "    salida = []\n",
    "    for item in tlp:\n",
    "        if(len(item) > 0):\n",
    "            salida.append(item)\n",
    "    print(salida)"
   ]
  },
  {
   "cell_type": "code",
   "execution_count": null,
   "metadata": {},
   "outputs": [],
   "source": [
    "tuplaVacia([(), (), ('X',), ('a', 'b'), ('a', 'b', 'c'), ('d')])"
   ]
  },
  {
   "attachments": {},
   "cell_type": "markdown",
   "metadata": {},
   "source": [
    "#### 6. Cree una funcion en Python que dada una tupla de tuplas con numeros, produzca una tuplavcon el promedio de cada tupla individual"
   ]
  },
  {
   "cell_type": "code",
   "execution_count": null,
   "metadata": {},
   "outputs": [],
   "source": [
    "def tuplaPromedio(tlp):\n",
    "    salida = []\n",
    "    for subtup in tlp:\n",
    "        sum = 0\n",
    "        for item in subtup:\n",
    "            sum += item\n",
    "        salida.append((sum/len(subtup)))\n",
    "    print(salida)"
   ]
  },
  {
   "cell_type": "code",
   "execution_count": null,
   "metadata": {},
   "outputs": [],
   "source": [
    "tuplaPromedio(((10, 10, 10, 12), (30, 45, 56, 45), (81, 80, 39, 32)))"
   ]
  },
  {
   "attachments": {},
   "cell_type": "markdown",
   "metadata": {},
   "source": [
    "#### 7. Escribir un programa que gestione las facturas pendientes de cobro de una empresa"
   ]
  },
  {
   "cell_type": "code",
   "execution_count": null,
   "metadata": {},
   "outputs": [],
   "source": [
    "class Venta():\n",
    "\n",
    "     cobrado = 0 #variable de clase.\n",
    "     pendiente = 0 #variable de clase.\n",
    "     diccionario = []\n",
    "     #constructor.\n",
    "     def __init__(self, num, tot):\n",
    "          self.numero = num\n",
    "          self.estado = 'pendiente'\n",
    "          self.total = tot\n",
    "          Venta.diccionario.append(self)\n",
    "          Venta.pendiente += tot\n",
    "              \n",
    "\n",
    "     def getDiccionario():\n",
    "          return Venta.diccionario\n",
    "     \n",
    "     def numFact(self):\n",
    "          return self.numero     \n",
    "     #metodo -> nombreCompleto\n",
    "     def getInfo(self):\n",
    "          return f\"Factura No: {self.numero},  Estado: {self.estado}, Total: {self.total}\"\n",
    "\n",
    "     @classmethod\n",
    "     def cobro(cls, monto):\n",
    "          cls.cobrado += monto\n",
    "          cls.pendiente -= monto\n",
    "\n",
    "     def eliminar(numero):\n",
    "          fact = next((x for x in Venta.diccionario if x.numero == numero), None)\n",
    "          Venta.cobrado += fact.total\n",
    "          Venta.pendiente -= fact.total\n",
    "          Venta.diccionario.remove(fact)\n",
    "      \n",
    "\n",
    "     @classmethod\n",
    "     def totalTotal(cls):\n",
    "          print(f\"Monto pendiente: {cls.pendiente}, Monto cancelado: {cls.cobrado} \")"
   ]
  },
  {
   "cell_type": "code",
   "execution_count": null,
   "metadata": {},
   "outputs": [],
   "source": [
    "\n",
    "opcion = int(input(\"\"\"Ingrese 1 para registrar una nueva factura, Ingrese 2 para pagar una existente\"\"\"))\n",
    "if (opcion == 1):\n",
    "    numero = int(input(\"Ingrese numero de factura: \"))\n",
    "    coste = int(input(\"Ingrese el total de la factura \"))\n",
    "    nueva = Venta(numero, coste)\n",
    "    for item in Venta.getDiccionario():\n",
    "        print(item.getInfo())\n",
    "elif(opcion == 2):\n",
    "    numero = int(input(\"Ingrese numero de factura a cancelar: \"))\n",
    "    Venta.eliminar(numero)\n",
    "    for item in Venta.getDiccionario():\n",
    "        print(item.getInfo())\n",
    "Venta.totalTotal()\n",
    "  \n",
    "\n",
    "\n"
   ]
  },
  {
   "cell_type": "code",
   "execution_count": 16,
   "metadata": {},
   "outputs": [
    {
     "name": "stdout",
     "output_type": "stream",
     "text": [
      "SET 1: {'C03', 'E06', 'P02', 'E11', 'T01', 'E05', 'T05', 'E10', 'T07', 'C01', 'T08', 'C02', 'P03', 'C12', 'C07', 'T03', 'C04', 'T04', 'E01', 'P06', 'E03', 'E08', 'T12', 'E04', 'C09', 'P09', 'T10', 'E12'} \n",
      " SET 2: {'C03', 'E06', 'P02', 'T01', 'E05', 'T05', 'E10', 'E12', 'T02', 'C11', 'E07', 'C06', 'T06', 'C01', 'T08', 'P11', 'P04', 'P01', 'C05', 'P08', 'C08', 'C02', 'P03', 'P12', 'C12', 'P10', 'C07', 'T03', 'C04', 'T04', 'P06', 'E02', 'E03', 'E08', 'T12', 'E09', 'E04', 'P09', 'T10', 'T11'} \n",
      " INTERSECCION: {'C03', 'E06', 'P02', 'T01', 'E05', 'T05', 'E10', 'C01', 'T08', 'C02', 'P03', 'C12', 'C07', 'T03', 'P06', 'T04', 'C04', 'E03', 'E08', 'T12', 'E04', 'P09', 'T10', 'E12'} \n",
      " 28 \n",
      " 28\n"
     ]
    }
   ],
   "source": [
    "import random\n",
    "# lista_elementos = [1, 2, 3, 4, 5, 6]\n",
    "# random.shuffle(lista_elementos, 2)\n",
    "\n",
    "def crearBaraja():\n",
    "    numeros = {'01','02', '03', '04', '05', '06', '07', '08', '09', '10', '11', '12', '13'}\n",
    "    cartas = {'C', 'P', 'E', 'T'}\n",
    "    baraja = set()\n",
    "    for num in numeros:\n",
    "        for cart in cartas:\n",
    "            baraja.add(f'{cart}{num}')\n",
    "    return baraja\n",
    "\n",
    "def crearSets(baraja):\n",
    "    rndmSetA = random.randint(1, 52)\n",
    "    rndmSetB = random.randint(1, 52)\n",
    "    set1 = set(random.sample(baraja, rndmSetA))\n",
    "    set2 = set(random.sample(baraja, rndmSetB))\n",
    "    interseccion = set1.intersection(set2)\n",
    "    tamInter = len(interseccion)\n",
    "    # P(A ∩ B) = P(A) * P(B|A)\n",
    "    prIntr = tamInter / rndmSetA * (rndmSetB / (rndmSetA - interseccion))\n",
    "    print(f\"SET 1: {set1} \\n SET 2: {set2} \\n INTERSECCION: {interseccion} \\n PROBABILIDAD: {prIntr}\")\n",
    "\n",
    "crearSets(crearBaraja())"
   ]
  }
 ],
 "metadata": {
  "kernelspec": {
   "display_name": "prueba",
   "language": "python",
   "name": "python3"
  },
  "language_info": {
   "codemirror_mode": {
    "name": "ipython",
    "version": 3
   },
   "file_extension": ".py",
   "mimetype": "text/x-python",
   "name": "python",
   "nbconvert_exporter": "python",
   "pygments_lexer": "ipython3",
   "version": "3.8.16"
  },
  "orig_nbformat": 4,
  "vscode": {
   "interpreter": {
    "hash": "1c010a6efedcb986e34d325bb55a0ad183b0c5bb68953836495ca0057c8d0445"
   }
  }
 },
 "nbformat": 4,
 "nbformat_minor": 2
}
